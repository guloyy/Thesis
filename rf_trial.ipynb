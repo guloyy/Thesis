{
 "cells": [
  {
   "cell_type": "code",
   "execution_count": 11,
   "id": "88885000",
   "metadata": {},
   "outputs": [
    {
     "name": "stdout",
     "output_type": "stream",
     "text": [
      "0.6340876973694767\n",
      "Mean Absolute Error (MAE): 9.50873604952337\n",
      "Mean Squared Error (MSE): 590.857590176277\n",
      "Root Mean Squared Error (RMSE): 24.30756240712501\n"
     ]
    },
    {
     "data": {
      "image/png": "[encoded data removed]",
      "text/plain": [
       "<Figure size 432x288 with 1 Axes>"
      ]
     },
     "metadata": {
      "needs_background": "light"
     },
     "output_type": "display_data"
    }
   ],
   "source": [
    "#-Read given dataframe first\n",
    "import numpy as np\n",
    "import pandas as pd\n",
    "from sklearn.ensemble import RandomForestRegressor\n",
    "import matplotlib.pyplot as plt\n",
    "\n",
    "\n",
    "from sklearn.ensemble import BaggingRegressor\n",
    "\n",
    "from sklearn.metrics import mean_absolute_error, mean_squared_error, mean_absolute_percentage_error, explained_variance_score, max_error, mean_squared_log_error, median_absolute_error, r2_score, mean_poisson_deviance, mean_gamma_deviance\n",
    "\n",
    " \n",
    "df_fr_it_sw_eb = pd.read_csv('/Users/defne/Downloads/test_df_to_learn_RF.csv')\n",
    "df_without_date = df_fr_it_sw_eb.iloc[:,1:]\n",
    "\n",
    " \n",
    "\n",
    "df_without_date1 = df_without_date.reset_index(drop = True)\n",
    "\n",
    "             \n",
    "\n",
    "x = df_without_date1.iloc[:,2:]\n",
    "\n",
    "y = df_without_date1['Cu_Obs']\n",
    "\n",
    "xv = x.sample(frac = 0.2\n",
    "             )      # x for validation (20%)\n",
    "\n",
    "xx = x.drop(xv.index)          # x for training  (80%)\n",
    "\n",
    "yv = y.loc[xv.index]           #y for validation (20%)\n",
    "\n",
    "yx = y.drop(xv.index)          #y for training (80%)\n",
    "\n",
    " \n",
    "\n",
    "regr = RandomForestRegressor(max_depth=200, random_state=666) ##6 and 125 need to be tuned\n",
    "\n",
    "regr.fit(xx, yx)                #rf training with training data (80%)\n",
    "\n",
    "y_tra = regr.predict(xx)\n",
    "\n",
    "y_val = regr.predict(xv)\n",
    "\n",
    " \n",
    "\n",
    "print(regr.score(xv, yv))\n",
    "\n",
    "print('Mean Absolute Error (MAE):', mean_absolute_error(yv, y_val))\n",
    "\n",
    "print('Mean Squared Error (MSE):', mean_squared_error(yv, y_val))\n",
    "\n",
    "print('Root Mean Squared Error (RMSE):', mean_squared_error(yv, y_val, squared=False))\n",
    "\n",
    " \n",
    "\n",
    "plt.figure()\n",
    "\n",
    "plt.scatter(yv, y_val)\n",
    "\n",
    "plt.xlim(0.1)\n",
    "plt.ylim(0.1)\n",
    "\n",
    "plt.show()\n",
    "\n",
    " "
   ]
  },
  {
   "cell_type": "code",
   "execution_count": null,
   "id": "5a8c97cb",
   "metadata": {},
   "outputs": [],
   "source": []
  },
  {
   "cell_type": "code",
   "execution_count": null,
   "id": "82bb93ec",
   "metadata": {},
   "outputs": [],
   "source": []
  },
  {
   "cell_type": "code",
   "execution_count": null,
   "id": "585f6562",
   "metadata": {},
   "outputs": [],
   "source": []
  }
 ],
 "metadata": {
  "kernelspec": {
   "display_name": "Python 3.8",
   "language": "python",
   "name": "myenv2"
  },
  "language_info": {
   "codemirror_mode": {
    "name": "ipython",
    "version": 3
   },
   "file_extension": ".py",
   "mimetype": "text/x-python",
   "name": "python",
   "nbconvert_exporter": "python",
   "pygments_lexer": "ipython3",
   "version": "3.11.4"
  }
 },
 "nbformat": 4,
 "nbformat_minor": 5
}
