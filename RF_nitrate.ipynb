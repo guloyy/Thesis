{
 "cells": [
  {
   "cell_type": "code",
   "execution_count": 55,
   "id": "29c80843",
   "metadata": {},
   "outputs": [],
   "source": [
    "#final output contains the merged file for sulfate, nitrate and the metadata etc.\n",
    "import numpy as np\n",
    "import pandas as pd\n",
    "from sklearn.ensemble import RandomForestRegressor\n",
    "import matplotlib.pyplot as plt\n",
    "from sklearn.metrics import (mean_absolute_error, mean_squared_error, \n",
    "                             mean_absolute_percentage_error, explained_variance_score, \n",
    "                             max_error, mean_squared_log_error, median_absolute_error, \n",
    "                             r2_score, mean_poisson_deviance, mean_gamma_deviance)"
   ]
  },
  {
   "cell_type": "code",
   "execution_count": 56,
   "id": "151b0b56",
   "metadata": {},
   "outputs": [],
   "source": [
    "df = pd.read_excel('/Users/defne/Downloads/final_output.xlsx')\n",
    "# Remove the Unnamed: 0 and Datetime columns\n",
    "df = df.drop(columns=['Unnamed: 0', 'Datetime'])"
   ]
  },
  {
   "cell_type": "code",
   "execution_count": 57,
   "id": "815fc5e2",
   "metadata": {},
   "outputs": [],
   "source": [
    "for colname in df.columns:\n",
    "    df = df[pd.to_numeric(df[colname], errors='coerce').notnull()]"
   ]
  },
  {
   "cell_type": "code",
   "execution_count": 58,
   "id": "5134c85a",
   "metadata": {},
   "outputs": [
    {
     "data": {
      "text/plain": [
       "Index(['Milano_Cu_Obs', 'Lat', 'Lon', 'Cu', 'T', 'RH', 'P', 'WS', 'WD', 'PBLH',\n",
       "       '01-agriculture_mean', '02-barren_mean', '03-industrial_transport_mean',\n",
       "       '04-natural_areas_mean', '05-snow_ice_mean', '06-urban_fabric_mean',\n",
       "       '07-urban_green_mean', '08-water_mean', '09-wetlands_mean',\n",
       "       '10-IMD_Fraction', 'rc_1_100', 'rc_1_1000', 'rc_1_10000', 'rc_1_200',\n",
       "       'rc_1_2000', 'rc_1_300', 'rc_1_400', 'rc_1_50', 'rc_1_500', 'rc_1_5000',\n",
       "       'rc_1_700', 'rc_2_100', 'rc_2_1000', 'rc_2_10000', 'rc_2_200',\n",
       "       'rc_2_2000', 'rc_2_300', 'rc_2_400', 'rc_2_50', 'rc_2_500', 'rc_2_5000',\n",
       "       'rc_2_700', 'rc_3_100', 'rc_3_1000', 'rc_3_10000', 'rc_3_200',\n",
       "       'rc_3_2000', 'rc_3_300', 'rc_3_400', 'rc_3_50', 'rc_3_500', 'rc_3_5000',\n",
       "       'rc_3_700', 'NO3-', 'SO42-'],\n",
       "      dtype='object')"
      ]
     },
     "execution_count": 58,
     "metadata": {},
     "output_type": "execute_result"
    }
   ],
   "source": [
    "df.columns"
   ]
  },
  {
   "cell_type": "code",
   "execution_count": 59,
   "id": "0ec73895",
   "metadata": {},
   "outputs": [
    {
     "data": {
      "text/plain": [
       "(1672, 55)"
      ]
     },
     "execution_count": 59,
     "metadata": {},
     "output_type": "execute_result"
    }
   ],
   "source": [
    "df.shape"
   ]
  },
  {
   "cell_type": "code",
   "execution_count": 60,
   "id": "351bc9a6",
   "metadata": {},
   "outputs": [],
   "source": [
    "#Initial version without the cross validation\n",
    "# Define the variable to predict (Nitrate) and features\n",
    "y = df['NO3-'] \n",
    "X = df.drop(columns=['NO3-'])  # Drop the target column from the features\n",
    "\n",
    "# Split the data into training and validation sets\n",
    "xv = X.sample(frac=0.2)        # X for validation (20%)\n",
    "xx = X.drop(xv.index)          # X for training (80%)\n",
    "yv = y.loc[xv.index]           # Y for validation (20%)\n",
    "yx = y.drop(xv.index)          # Y for training (80%)\n",
    "\n",
    "# Initialize and train the RandomForestRegressor\n",
    "regr = RandomForestRegressor(max_depth=200, random_state=666) # Need to tune these parameters\n",
    "regr.fit(xx, yx)  # Train with training data (80%)\n",
    "\n",
    "# Make predictions\n",
    "y_tra = regr.predict(xx)  # Predictions on training set\n",
    "y_val = regr.predict(xv)  # Predictions on validation set\n"
   ]
  },
  {
   "cell_type": "code",
   "execution_count": 61,
   "id": "44a74d6d",
   "metadata": {},
   "outputs": [
    {
     "name": "stdout",
     "output_type": "stream",
     "text": [
      "0.8787516963032089\n",
      "Mean Absolute Error (MAE): 1.6428283838272557\n",
      "Mean Squared Error (MSE): 9.651706931563485\n",
      "Root Mean Squared Error (RMSE): 3.106719641609697\n"
     ]
    },
    {
     "data": {
      "image/png": "[encoded data removed]",
      "text/plain": [
       "<Figure size 432x288 with 1 Axes>"
      ]
     },
     "metadata": {
      "needs_background": "light"
     },
     "output_type": "display_data"
    }
   ],
   "source": [
    "# Evaluate the model\n",
    "print(regr.score(xv, yv))\n",
    "print('Mean Absolute Error (MAE):', mean_absolute_error(yv, y_val))\n",
    "print('Mean Squared Error (MSE):', mean_squared_error(yv, y_val))\n",
    "print('Root Mean Squared Error (RMSE):', mean_squared_error(yv, y_val, squared=False))\n",
    "\n",
    "# Plot results\n",
    "plt.figure()\n",
    "plt.scatter(yv, y_val)\n",
    "plt.xlabel('Actual Nitrate')\n",
    "plt.ylabel('Predicted Nitrate')\n",
    "plt.xlim(0.1)\n",
    "plt.ylim(0.1)\n",
    "plt.show()\n"
   ]
  },
  {
   "cell_type": "code",
   "execution_count": 62,
   "id": "c20c2384",
   "metadata": {},
   "outputs": [],
   "source": [
    "#Implementing cross validation\n",
    "df = pd.read_excel('/Users/defne/Downloads/final_output.xlsx')\n",
    "# Remove the Unnamed: 0 and Datetime columns\n",
    "df = df.drop(columns=['Unnamed: 0', 'Datetime'])\n",
    "for colname in df.columns:\n",
    "    df = df[pd.to_numeric(df[colname], errors='coerce').notnull()]"
   ]
  },
  {
   "cell_type": "code",
   "execution_count": 63,
   "id": "0b0a12e3",
   "metadata": {},
   "outputs": [
    {
     "name": "stdout",
     "output_type": "stream",
     "text": [
      "Cross-validation scores: [0.95791207 0.63134372 0.62844595 0.88812986 0.94127444]\n",
      "Mean CV Score: 0.8094212066452323\n"
     ]
    },
    {
     "data": {
      "text/html": [
       "<style>#sk-container-id-3 {color: black;}#sk-container-id-3 pre{padding: 0;}#sk-container-id-3 div.sk-toggleable {background-color: white;}#sk-container-id-3 label.sk-toggleable__label {cursor: pointer;display: block;width: 100%;margin-bottom: 0;padding: 0.3em;box-sizing: border-box;text-align: center;}#sk-container-id-3 label.sk-toggleable__label-arrow:before {content: \"▸\";float: left;margin-right: 0.25em;color: #696969;}#sk-container-id-3 label.sk-toggleable__label-arrow:hover:before {color: black;}#sk-container-id-3 div.sk-estimator:hover label.sk-toggleable__label-arrow:before {color: black;}#sk-container-id-3 div.sk-toggleable__content {max-height: 0;max-width: 0;overflow: hidden;text-align: left;background-color: #f0f8ff;}#sk-container-id-3 div.sk-toggleable__content pre {margin: 0.2em;color: black;border-radius: 0.25em;background-color: #f0f8ff;}#sk-container-id-3 input.sk-toggleable__control:checked~div.sk-toggleable__content {max-height: 200px;max-width: 100%;overflow: auto;}#sk-container-id-3 input.sk-toggleable__control:checked~label.sk-toggleable__label-arrow:before {content: \"▾\";}#sk-container-id-3 div.sk-estimator input.sk-toggleable__control:checked~label.sk-toggleable__label {background-color: #d4ebff;}#sk-container-id-3 div.sk-label input.sk-toggleable__control:checked~label.sk-toggleable__label {background-color: #d4ebff;}#sk-container-id-3 input.sk-hidden--visually {border: 0;clip: rect(1px 1px 1px 1px);clip: rect(1px, 1px, 1px, 1px);height: 1px;margin: -1px;overflow: hidden;padding: 0;position: absolute;width: 1px;}#sk-container-id-3 div.sk-estimator {font-family: monospace;background-color: #f0f8ff;border: 1px dotted black;border-radius: 0.25em;box-sizing: border-box;margin-bottom: 0.5em;}#sk-container-id-3 div.sk-estimator:hover {background-color: #d4ebff;}#sk-container-id-3 div.sk-parallel-item::after {content: \"\";width: 100%;border-bottom: 1px solid gray;flex-grow: 1;}#sk-container-id-3 div.sk-label:hover label.sk-toggleable__label {background-color: #d4ebff;}#sk-container-id-3 div.sk-serial::before {content: \"\";position: absolute;border-left: 1px solid gray;box-sizing: border-box;top: 0;bottom: 0;left: 50%;z-index: 0;}#sk-container-id-3 div.sk-serial {display: flex;flex-direction: column;align-items: center;background-color: white;padding-right: 0.2em;padding-left: 0.2em;position: relative;}#sk-container-id-3 div.sk-item {position: relative;z-index: 1;}#sk-container-id-3 div.sk-parallel {display: flex;align-items: stretch;justify-content: center;background-color: white;position: relative;}#sk-container-id-3 div.sk-item::before, #sk-container-id-3 div.sk-parallel-item::before {content: \"\";position: absolute;border-left: 1px solid gray;box-sizing: border-box;top: 0;bottom: 0;left: 50%;z-index: -1;}#sk-container-id-3 div.sk-parallel-item {display: flex;flex-direction: column;z-index: 1;position: relative;background-color: white;}#sk-container-id-3 div.sk-parallel-item:first-child::after {align-self: flex-end;width: 50%;}#sk-container-id-3 div.sk-parallel-item:last-child::after {align-self: flex-start;width: 50%;}#sk-container-id-3 div.sk-parallel-item:only-child::after {width: 0;}#sk-container-id-3 div.sk-dashed-wrapped {border: 1px dashed gray;margin: 0 0.4em 0.5em 0.4em;box-sizing: border-box;padding-bottom: 0.4em;background-color: white;}#sk-container-id-3 div.sk-label label {font-family: monospace;font-weight: bold;display: inline-block;line-height: 1.2em;}#sk-container-id-3 div.sk-label-container {text-align: center;}#sk-container-id-3 div.sk-container {/* jupyter's `normalize.less` sets `[hidden] { display: none; }` but bootstrap.min.css set `[hidden] { display: none !important; }` so we also need the `!important` here to be able to override the default hidden behavior on the sphinx rendered scikit-learn.org. See: https://github.com/scikit-learn/scikit-learn/issues/21755 */display: inline-block !important;position: relative;}#sk-container-id-3 div.sk-text-repr-fallback {display: none;}</style><div id=\"sk-container-id-3\" class=\"sk-top-container\"><div class=\"sk-text-repr-fallback\"><pre>RandomForestRegressor(max_depth=200, random_state=666)</pre><b>In a Jupyter environment, please rerun this cell to show the HTML representation or trust the notebook. <br />On GitHub, the HTML representation is unable to render, please try loading this page with nbviewer.org.</b></div><div class=\"sk-container\" hidden><div class=\"sk-item\"><div class=\"sk-estimator sk-toggleable\"><input class=\"sk-toggleable__control sk-hidden--visually\" id=\"sk-estimator-id-3\" type=\"checkbox\" checked><label for=\"sk-estimator-id-3\" class=\"sk-toggleable__label sk-toggleable__label-arrow\">RandomForestRegressor</label><div class=\"sk-toggleable__content\"><pre>RandomForestRegressor(max_depth=200, random_state=666)</pre></div></div></div></div></div>"
      ],
      "text/plain": [
       "RandomForestRegressor(max_depth=200, random_state=666)"
      ]
     },
     "execution_count": 63,
     "metadata": {},
     "output_type": "execute_result"
    }
   ],
   "source": [
    "from sklearn.model_selection import cross_val_score\n",
    "# Define the target variable (Nitrate) and features\n",
    "y = df['NO3-']  \n",
    "X = df.drop(columns=['NO3-'])  # Drop the target column from the features\n",
    "\n",
    "# Initialize the RandomForestRegressor\n",
    "regr = RandomForestRegressor(max_depth=200, random_state=666) #Need to tune these parameters\n",
    "\n",
    "# Perform cross-validation\n",
    "cv_scores = cross_val_score(regr, X, y, cv=5)  # 5-fold cross-validation\n",
    "\n",
    "# Print the cross-validation scores\n",
    "print(\"Cross-validation scores:\", cv_scores)\n",
    "print(\"Mean CV Score:\", np.mean(cv_scores))\n",
    "\n",
    "# Train the model on the entire dataset\n",
    "regr.fit(X, y)"
   ]
  },
  {
   "cell_type": "code",
   "execution_count": 64,
   "id": "c63ee2c4",
   "metadata": {},
   "outputs": [],
   "source": [
    "#Demonstrating the performance after cross validation\n",
    "# Split the data into training and validation sets\n",
    "from sklearn.model_selection import train_test_split, cross_val_score\n",
    "from sklearn.metrics import mean_absolute_error, mean_squared_error\n",
    "import matplotlib.pyplot as plt\n",
    "X_train, X_val, y_train, y_val = train_test_split(X, y, test_size=0.2, random_state=666)"
   ]
  },
  {
   "cell_type": "code",
   "execution_count": 65,
   "id": "86b98ba5",
   "metadata": {},
   "outputs": [],
   "source": [
    "# Train on training data and evaluate on validation data\n",
    "# Initialize the RandomForestRegressor\n",
    "regr = RandomForestRegressor(max_depth=200, random_state=666)\n",
    "regr.fit(X_train, y_train)\n",
    "y_val_pred = regr.predict(X_val)\n",
    "val_mae = mean_absolute_error(y_val, y_val_pred)\n",
    "val_mse = mean_squared_error(y_val, y_val_pred)"
   ]
  },
  {
   "cell_type": "code",
   "execution_count": 66,
   "id": "d5f02963",
   "metadata": {},
   "outputs": [
    {
     "name": "stdout",
     "output_type": "stream",
     "text": [
      "0.8363617341844745\n",
      "Mean Absolute Error (MAE): 1.7949415315917152\n",
      "Mean Squared Error (MSE): 13.624620236379554\n",
      "Root Mean Squared Error (RMSE): 3.691154323024107\n"
     ]
    },
    {
     "data": {
      "image/png": "[encoded data removed]",
      "text/plain": [
       "<Figure size 432x288 with 1 Axes>"
      ]
     },
     "metadata": {
      "needs_background": "light"
     },
     "output_type": "display_data"
    }
   ],
   "source": [
    "# Evaluate the model\n",
    "print(regr.score(X_val, y_val))\n",
    "print('Mean Absolute Error (MAE):',val_mae)\n",
    "print('Mean Squared Error (MSE):', val_mse)\n",
    "print('Root Mean Squared Error (RMSE):',mean_squared_error(y_val, y_val_pred, squared=False))\n",
    "\n",
    "# Plot results\n",
    "plt.figure()\n",
    "plt.scatter(y_val, y_val_pred)\n",
    "plt.xlabel('Actual Nitrate')\n",
    "plt.ylabel('Predicted Nitrate')\n",
    "plt.xlim(0.1)\n",
    "plt.ylim(0.1)\n",
    "plt.show()\n"
   ]
  },
  {
   "cell_type": "code",
   "execution_count": null,
   "id": "3dc22018",
   "metadata": {},
   "outputs": [],
   "source": []
  }
 ],
 "metadata": {
  "kernelspec": {
   "display_name": "Python 3.8",
   "language": "python",
   "name": "myenv2"
  },
  "language_info": {
   "codemirror_mode": {
    "name": "ipython",
    "version": 3
   },
   "file_extension": ".py",
   "mimetype": "text/x-python",
   "name": "python",
   "nbconvert_exporter": "python",
   "pygments_lexer": "ipython3",
   "version": "3.11.4"
  }
 },
 "nbformat": 4,
 "nbformat_minor": 5
}
