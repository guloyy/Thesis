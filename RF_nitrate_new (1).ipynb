{
 "cells": [
  {
   "cell_type": "code",
   "execution_count": 1,
   "id": "29c80843",
   "metadata": {},
   "outputs": [],
   "source": [
    "#final output contains the merged file for sulfate, nitrate and the metadata etc.\n",
    "import numpy as np\n",
    "import pandas as pd\n",
    "from sklearn.ensemble import RandomForestRegressor\n",
    "import matplotlib.pyplot as plt\n",
    "from sklearn.metrics import (mean_absolute_error, mean_squared_error, \n",
    "                             mean_absolute_percentage_error, explained_variance_score, \n",
    "                             max_error, mean_squared_log_error, median_absolute_error, \n",
    "                             r2_score, mean_poisson_deviance, mean_gamma_deviance)\n",
    "from sklearn.metrics import mean_absolute_error, mean_squared_error, r2_score\n",
    "\n"
   ]
  },
  {
   "cell_type": "code",
   "execution_count": 2,
   "id": "151b0b56",
   "metadata": {},
   "outputs": [
    {
     "name": "stderr",
     "output_type": "stream",
     "text": [
      "/var/folders/fs/9hkffwc95yz53x44d27zb2ym0000gn/T/ipykernel_30309/222829863.py:1: DtypeWarning: Columns (6,7) have mixed types. Specify dtype option on import or set low_memory=False.\n",
      "  df = pd.read_csv('/Users/defne/Downloads/alles.csv')\n"
     ]
    }
   ],
   "source": [
    "df = pd.read_csv('/Users/defne/Downloads/alles.csv')\n",
    "# Remove the Unnamed: 0 and Datetime columns\n",
    "df = df.drop(columns=['station_id', 'Date'])"
   ]
  },
  {
   "cell_type": "code",
   "execution_count": 3,
   "id": "f2918ef9",
   "metadata": {},
   "outputs": [
    {
     "data": {
      "text/plain": [
       "Index(['site_latitude', 'site_longitude', 'NO3', 'SO4', 'NO3-', 'SO42-',\n",
       "       'elevation_1k', 'elevation_yNA_bNA', 'road_class_1_700',\n",
       "       'road_class_2_50', 'road_class_1_500', 'road_class_3_50',\n",
       "       'road_class_2_400', 'road_class_1_100', 'road_class_2_700',\n",
       "       'road_class_3_100', 'road_class_2_500', 'road_class_1_400',\n",
       "       'road_class_3_400', 'road_class_1_2000', 'road_class_3_1000',\n",
       "       'road_class_3_10000', 'road_class_1_300', 'road_class_3_500',\n",
       "       'road_class_2_2000', 'road_class_1_1000', 'road_class_3_300',\n",
       "       'road_class_2_200', 'road_class_1_200', 'road_class_2_1000',\n",
       "       'road_class_1_5000', 'road_class_1_50', 'road_class_3_200',\n",
       "       'road_class_3_5000', 'road_class_2_300', 'road_class_2_5000',\n",
       "       'road_class_3_2000', 'road_class_2_100', 'road_class_3_700',\n",
       "       'road_class_2_10000', 'road_class_1_10000', 'imd_b500', 'imd_b1000',\n",
       "       'imd', 'CLC', 'snow_ice_b1000', 'snow_ice_b500', 'urban_fabric_b1000',\n",
       "       'urban_fabric_b500', 'industrial_transport_b1000',\n",
       "       'industrial_transport_b500', 'agriculture_b1000', 'agriculture_b500',\n",
       "       'barren_b1000', 'barren_b500', 'water_b1000', 'water_b500',\n",
       "       'ports_b1000', 'ports_b500', 'transport_b1000', 'transport_b500',\n",
       "       'natural_green_b1000', 'natural_green_b500', 'airports_b1000',\n",
       "       'airports_b500', 'wetlands_b1000', 'wetlands_b500', 'industrial_b1000',\n",
       "       'industrial_b500', 'roads_rails_b1000', 'roads_rails_b500',\n",
       "       'urban_green_b1000', 'urban_green_b500', 'population_density_b1000',\n",
       "       'population_density_b500', 'population_density_b501',\n",
       "       'population_density'],\n",
       "      dtype='object')"
      ]
     },
     "execution_count": 3,
     "metadata": {},
     "output_type": "execute_result"
    }
   ],
   "source": [
    "df.columns"
   ]
  },
  {
   "cell_type": "code",
   "execution_count": 4,
   "id": "ccc5912d",
   "metadata": {},
   "outputs": [
    {
     "data": {
      "text/plain": [
       "(482614, 77)"
      ]
     },
     "execution_count": 4,
     "metadata": {},
     "output_type": "execute_result"
    }
   ],
   "source": [
    "df.shape"
   ]
  },
  {
   "cell_type": "code",
   "execution_count": 5,
   "id": "8c1a4f3f",
   "metadata": {},
   "outputs": [],
   "source": [
    "#Getting rid of nan values and non numeric values\n",
    "for col in df.columns:\n",
    "     df[col] = pd.to_numeric(df[col], errors='coerce')\n"
   ]
  },
  {
   "cell_type": "code",
   "execution_count": 6,
   "id": "fb384b63",
   "metadata": {},
   "outputs": [],
   "source": [
    "for colname in df.columns:\n",
    "    df = df[pd.to_numeric(df[colname], errors='coerce').notnull()]\n",
    "    "
   ]
  },
  {
   "cell_type": "code",
   "execution_count": 7,
   "id": "26b86ce5",
   "metadata": {},
   "outputs": [
    {
     "data": {
      "text/plain": [
       "(173503, 77)"
      ]
     },
     "execution_count": 7,
     "metadata": {},
     "output_type": "execute_result"
    }
   ],
   "source": [
    "df.shape"
   ]
  },
  {
   "cell_type": "markdown",
   "id": "a45b941f",
   "metadata": {},
   "source": [
    "# Random Forest - predicting the concentration"
   ]
  },
  {
   "cell_type": "code",
   "execution_count": 8,
   "id": "05bcdaab",
   "metadata": {},
   "outputs": [],
   "source": [
    "\n",
    "# Define the variable to predict (Nitrate) and features\n",
    "\n",
    "y = df['NO3-'] \n",
    "X = df.drop(columns=['NO3-'])  # Drop the target column from the features\n",
    "\n",
    "# Split the data into training and validation sets\n",
    "xv = X.sample(frac=0.2)        # X for validation (20%)\n",
    "xx = X.drop(xv.index)          # X for training (80%)\n",
    "yv = y.loc[xv.index]           # Y for validation (20%)\n",
    "yx = y.drop(xv.index) # Y for training (80%)\n",
    "\n",
    "#print(xx)\n",
    "# Initialize and train the RandomForestRegressor\n",
    "regr = RandomForestRegressor(max_depth=100, random_state=125) # Need to tune these parameters\n",
    "regr.fit(xx, yx)  # Train with training data (80%)\n",
    "\n",
    "# Make predictions\n",
    "y_tra = regr.predict(xx)  # Predictions on training set\n",
    "y_val = regr.predict(xv)  # Predictions on validation set\n",
    "\n",
    "\n",
    "yv_const = yv\n"
   ]
  },
  {
   "cell_type": "code",
   "execution_count": 9,
   "id": "c61fbf43",
   "metadata": {},
   "outputs": [],
   "source": [
    "#Code for MAPE\n",
    "def mean_absolute_percentage_error(y_true, y_pred): \n",
    "    y_true, y_pred = np.array(y_true), np.array(y_pred)\n",
    "    epsilon = 1e-10  # A small constant to avoid division by zero\n",
    "    return np.mean(np.abs((y_true - y_pred) / (y_true + epsilon))) * 100\n"
   ]
  },
  {
   "cell_type": "code",
   "execution_count": 10,
   "id": "a74fbdbd",
   "metadata": {},
   "outputs": [
    {
     "name": "stdout",
     "output_type": "stream",
     "text": [
      "R² score: 0.7961515808099792\n",
      "Mean Absolute Error (MAE): 0.3813008787708175\n",
      "Mean Squared Error (MSE): 0.7685658760685364\n",
      "Root Mean Squared Error (RMSE): 0.876678889941201\n",
      "Mean Absolute Percentage Error (MAPE): 211475557.29050687 %\n"
     ]
    },
    {
     "data": {
      "image/png": "[encoded data removed]",
      "text/plain": [
       "<Figure size 432x288 with 1 Axes>"
      ]
     },
     "metadata": {
      "needs_background": "light"
     },
     "output_type": "display_data"
    },
    {
     "name": "stdout",
     "output_type": "stream",
     "text": [
      "(34701,)\n",
      "(34701,)\n"
     ]
    }
   ],
   "source": [
    "print('R² score:', regr.score(xv, yv))\n",
    "print('Mean Absolute Error (MAE):', mean_absolute_error(yv, y_val))\n",
    "print('Mean Squared Error (MSE):', mean_squared_error(yv, y_val))\n",
    "print('Root Mean Squared Error (RMSE):', mean_squared_error(yv, y_val, squared=False))\n",
    "print('Mean Absolute Percentage Error (MAPE):', mean_absolute_percentage_error(yv, y_val), '%')\n",
    "\n",
    "# Convert yv to float\n",
    "yv = pd.to_numeric(yv, errors='coerce')\n",
    "\n",
    "# Plot results\n",
    "plt.figure()\n",
    "plt.scatter(yv, y_val)\n",
    "plt.xlabel('Actual Nitrate')\n",
    "plt.ylabel('Predicted Nitrate')\n",
    "\n",
    "# Set x-ticks\n",
    "xtick_range = np.arange(yv.min(), yv.max(), 10)\n",
    "plt.xticks(xtick_range)\n",
    "\n",
    "plt.show()\n",
    "\n",
    "print(yv.shape)\n",
    "print(y_val.shape)"
   ]
  },
  {
   "cell_type": "markdown",
   "id": "964f1fc8",
   "metadata": {},
   "source": [
    "# Random Forest - Prediction of the percentage error"
   ]
  },
  {
   "cell_type": "code",
   "execution_count": 11,
   "id": "22830d69",
   "metadata": {},
   "outputs": [
    {
     "name": "stderr",
     "output_type": "stream",
     "text": [
      "/var/folders/fs/9hkffwc95yz53x44d27zb2ym0000gn/T/ipykernel_30309/222829863.py:1: DtypeWarning: Columns (6,7) have mixed types. Specify dtype option on import or set low_memory=False.\n",
      "  df = pd.read_csv('/Users/defne/Downloads/alles.csv')\n"
     ]
    }
   ],
   "source": [
    "df = pd.read_csv('/Users/defne/Downloads/alles.csv')\n",
    "# Remove the Unnamed: 0 and Datetime columns\n",
    "df = df.drop(columns=['station_id', 'Date'])"
   ]
  },
  {
   "cell_type": "code",
   "execution_count": 12,
   "id": "b4c05f18",
   "metadata": {},
   "outputs": [],
   "source": [
    "#Getting rid of nan values and non numeric values\n",
    "for col in df.columns:\n",
    "     df[col] = pd.to_numeric(df[col], errors='coerce')\n",
    "for colname in df.columns:\n",
    "    df = df[pd.to_numeric(df[colname], errors='coerce').notnull()]\n",
    "    "
   ]
  },
  {
   "cell_type": "code",
   "execution_count": 13,
   "id": "b10ca97c",
   "metadata": {},
   "outputs": [
    {
     "data": {
      "text/plain": [
       "(173503, 77)"
      ]
     },
     "execution_count": 13,
     "metadata": {},
     "output_type": "execute_result"
    }
   ],
   "source": [
    "df.shape"
   ]
  },
  {
   "cell_type": "code",
   "execution_count": 14,
   "id": "ff612b7f",
   "metadata": {},
   "outputs": [],
   "source": [
    "# Calculate P0.05 for the entire dataset\n",
    "P0_05 = np.percentile(df['NO3-'], 5)\n",
    "\n",
    "# Define a function to calculate the percentage error\n",
    "def calculate_percentage_error(measurement):\n",
    "    return (measurement - P0_05) / (measurement + P0_05)"
   ]
  },
  {
   "cell_type": "code",
   "execution_count": 15,
   "id": "91486f35",
   "metadata": {},
   "outputs": [],
   "source": [
    "# Create a new target variable based on the percentage error\n",
    "df['Percentage_Error'] = df['NO3-'].apply(calculate_percentage_error)\n",
    "\n",
    "# Define the variable to predict (Percentage Error) and features\n",
    "y = df['Percentage_Error']\n",
    "X = df.drop(columns=['NO3-', 'Percentage_Error'])  # Drop the original target and new target from the features\n",
    "\n",
    "# Manually split the data into training and validation sets\n",
    "xv = X.sample(frac=0.2, random_state=125)        # X for validation (20%)\n",
    "xx = X.drop(xv.index)          # X for training (80%)\n",
    "yv = y.loc[xv.index]           # Y for validation (20%)\n",
    "yx = y.drop(yv.index)          # Y for training (80%)\n",
    "\n",
    "# Initialize and train the RandomForestRegressor\n",
    "regr = RandomForestRegressor(max_depth=100, random_state=125)\n",
    "regr.fit(xx, yx)  # Train with training data (80%)\n",
    "\n",
    "# Make predictions\n",
    "y_train_pred = regr.predict(xx)  # Predictions on training set\n",
    "y_val_pred = regr.predict(xv)  # Predictions on validation set\n",
    "\n",
    "# Now y_train_pred and y_val_pred are predictions of the percentage error\n"
   ]
  },
  {
   "cell_type": "code",
   "execution_count": null,
   "id": "b06041a1",
   "metadata": {},
   "outputs": [],
   "source": []
  },
  {
   "cell_type": "markdown",
   "id": "464d90bf",
   "metadata": {},
   "source": [
    "Here is the correction using the prediction of the error"
   ]
  },
  {
   "cell_type": "code",
   "execution_count": 24,
   "id": "721b24ef",
   "metadata": {},
   "outputs": [],
   "source": [
    "# Apply the correction\n",
    "corrected_concentrations = yv_const + (y_val_pred *yv_const)"
   ]
  },
  {
   "cell_type": "raw",
   "id": "5074f89d",
   "metadata": {},
   "source": [
    "Evaluation after correction QUESTION WERE WE SUPPOSED TO CORRECT THE PREDICTIONS THAT WE MADE IN THE PREVIOUS CONCENTRATION PREDICTION?"
   ]
  },
  {
   "cell_type": "code",
   "execution_count": 25,
   "id": "c5383a51",
   "metadata": {},
   "outputs": [
    {
     "name": "stdout",
     "output_type": "stream",
     "text": [
      "R² score: 0.28820620010511244\n",
      "Mean Absolute Error (MAE): 0.7796129397294344\n",
      "Mean Squared Error (MSE): 2.6836628293222864\n",
      "Root Mean Squared Error (RMSE): 1.63818888694872\n",
      "Mean Absolute Percentage Error (MAPE): 70.76449421843184 %\n"
     ]
    },
    {
     "data": {
      "image/png": "[encoded data removed]",
      "text/plain": [
       "<Figure size 432x288 with 1 Axes>"
      ]
     },
     "metadata": {
      "needs_background": "light"
     },
     "output_type": "display_data"
    }
   ],
   "source": [
    "# Calculate the evaluation metrics\n",
    "r2 = r2_score(yv_const, corrected_concentrations)\n",
    "mae = mean_absolute_error(yv_const, corrected_concentrations)\n",
    "mse = mean_squared_error(yv_const, corrected_concentrations)\n",
    "rmse = mean_squared_error(yv_const, corrected_concentrations, squared=False)\n",
    "mape = np.mean(np.abs((yv_const - corrected_concentrations) / yv_const)) * 100\n",
    "\n",
    "# Print the metrics\n",
    "print('R² score:', r2)\n",
    "print('Mean Absolute Error (MAE):', mae)\n",
    "print('Mean Squared Error (MSE):', mse)\n",
    "print('Root Mean Squared Error (RMSE):', rmse)\n",
    "print('Mean Absolute Percentage Error (MAPE):', mape, '%')\n",
    "\n",
    "# Plotting the results\n",
    "plt.figure()\n",
    "plt.scatter(yv, corrected_concentrations)\n",
    "plt.xlabel('Actual Nitrate Concentrations')\n",
    "plt.ylabel('Corrected Nitrate Concentrations')\n",
    "plt.title('Actual vs Corrected Nitrate Concentrations')\n",
    "\n",
    "# Adjust x-ticks if necessary\n",
    "xtick_range = np.linspace(yv.min(), yv.max(), num=10)  # Adjust number of ticks as needed\n",
    "plt.xticks(xtick_range)\n",
    "\n",
    "plt.show()\n"
   ]
  },
  {
   "cell_type": "code",
   "execution_count": null,
   "id": "08ffc597",
   "metadata": {},
   "outputs": [],
   "source": []
  },
  {
   "cell_type": "code",
   "execution_count": null,
   "id": "88ea7683",
   "metadata": {},
   "outputs": [],
   "source": []
  },
  {
   "cell_type": "markdown",
   "id": "38ec6954",
   "metadata": {},
   "source": [
    "# Random Forest - Validation set from random stations"
   ]
  },
  {
   "cell_type": "code",
   "execution_count": null,
   "id": "989bfd10",
   "metadata": {},
   "outputs": [],
   "source": [
    "df = pd.read_csv('/Users/defne/Downloads/alles.csv')\n",
    "# Remove the Unnamed: 0 and Datetime columns\n",
    "df_const = df\n",
    "df = df.drop(columns=['station_id', 'Date'])"
   ]
  },
  {
   "cell_type": "code",
   "execution_count": null,
   "id": "79562456",
   "metadata": {},
   "outputs": [],
   "source": [
    "df.columns"
   ]
  },
  {
   "cell_type": "code",
   "execution_count": null,
   "id": "a6b61213",
   "metadata": {},
   "outputs": [],
   "source": [
    "df_const.columns"
   ]
  },
  {
   "cell_type": "code",
   "execution_count": null,
   "id": "60619638",
   "metadata": {},
   "outputs": [],
   "source": [
    "for colname in df.columns:\n",
    "    df = df[pd.to_numeric(df[colname], errors='coerce').notnull()]\n"
   ]
  },
  {
   "cell_type": "code",
   "execution_count": null,
   "id": "0f326d83",
   "metadata": {},
   "outputs": [],
   "source": [
    "df.shape"
   ]
  },
  {
   "cell_type": "code",
   "execution_count": null,
   "id": "7546ec5a",
   "metadata": {},
   "outputs": [],
   "source": [
    "#Getting rid of nan values and non numeric values\n",
    "for col in df.columns:\n",
    "     df[col] = pd.to_numeric(df[col], errors='coerce')\n"
   ]
  },
  {
   "cell_type": "code",
   "execution_count": null,
   "id": "91cae030",
   "metadata": {},
   "outputs": [],
   "source": [
    "df_const['station_id'].iloc[482610]"
   ]
  },
  {
   "cell_type": "code",
   "execution_count": null,
   "id": "e7772e59",
   "metadata": {},
   "outputs": [],
   "source": [
    "stations_for_validation = ['ID203','ID053','ID116','ID227']#almost 10 percent of the data"
   ]
  },
  {
   "cell_type": "code",
   "execution_count": null,
   "id": "648af7a3",
   "metadata": {},
   "outputs": [],
   "source": [
    "#How many datapoints for validation\n",
    "df_const[df_const['station_id'].isin(stations_for_validation)].shape"
   ]
  },
  {
   "cell_type": "code",
   "execution_count": null,
   "id": "8727f078",
   "metadata": {},
   "outputs": [],
   "source": [
    "\n",
    "# Define the variable to predict (Nitrate) and features\n",
    "\n",
    "y = df['NO3-'] \n",
    "X = df.drop(columns=['NO3-'])  # Drop the target column from the features\n",
    "\n",
    "# Split the data into training and validation sets\n",
    "xv = X.sample(frac=0.2)        # X for validation (20%)\n",
    "xx = X.drop(xv.index)          # X for training (80%)\n",
    "yv = y.loc[xv.index]           # Y for validation (20%)\n",
    "yx = y.drop(xv.index) # Y for training (80%)\n",
    "\n",
    "#print(xx)\n",
    "# Initialize and train the RandomForestRegressor\n",
    "regr = RandomForestRegressor(max_depth=100, random_state=125) # Need to tune these parameters\n",
    "regr.fit(xx, yx)  # Train with training data (80%)\n",
    "\n",
    "# Make predictions\n",
    "y_tra = regr.predict(xx)  # Predictions on training set\n",
    "y_val = regr.predict(xv)  # Predictions on validation set\n"
   ]
  },
  {
   "cell_type": "code",
   "execution_count": null,
   "id": "d3b5f94f",
   "metadata": {},
   "outputs": [],
   "source": [
    "print('R² score:', regr.score(xv, yv))\n",
    "print('Mean Absolute Error (MAE):', mean_absolute_error(yv, y_val))\n",
    "print('Mean Squared Error (MSE):', mean_squared_error(yv, y_val))\n",
    "print('Root Mean Squared Error (RMSE):', mean_squared_error(yv, y_val, squared=False))\n",
    "print('Mean Absolute Percentage Error (MAPE):', mean_absolute_percentage_error(yv, y_val), '%')\n",
    "\n",
    "# Convert yv to float\n",
    "yv = pd.to_numeric(yv, errors='coerce')\n",
    "\n",
    "# Plot results\n",
    "plt.figure()\n",
    "plt.scatter(yv, y_val)\n",
    "plt.xlabel('Actual Nitrate')\n",
    "plt.ylabel('Predicted Nitrate')\n",
    "\n",
    "# Set x-ticks\n",
    "xtick_range = np.arange(yv.min(), yv.max(), 10)\n",
    "plt.xticks(xtick_range)\n",
    "\n",
    "plt.show()\n",
    "\n",
    "print(yv.shape)\n",
    "print(y_val.shape)"
   ]
  },
  {
   "cell_type": "code",
   "execution_count": null,
   "id": "17bdac15",
   "metadata": {},
   "outputs": [],
   "source": []
  },
  {
   "cell_type": "markdown",
   "id": "ff8a66fc",
   "metadata": {},
   "source": [
    "# SHAP"
   ]
  },
  {
   "cell_type": "code",
   "execution_count": null,
   "id": "d4d25c61",
   "metadata": {},
   "outputs": [],
   "source": [
    "!pip install shap"
   ]
  },
  {
   "cell_type": "code",
   "execution_count": null,
   "id": "838e444e",
   "metadata": {},
   "outputs": [],
   "source": [
    "import sys\n",
    "print(sys.executable)\n"
   ]
  },
  {
   "cell_type": "code",
   "execution_count": null,
   "id": "583ccfa5",
   "metadata": {},
   "outputs": [],
   "source": [
    "!{sys.executable} -m pip install shap\n"
   ]
  },
  {
   "cell_type": "code",
   "execution_count": null,
   "id": "78012a79",
   "metadata": {},
   "outputs": [],
   "source": [
    "import shap\n",
    "from sklearn.ensemble import RandomForestRegressor\n",
    "\n",
    "# Assuming your model is already trained and is named 'regr'\n",
    "# And your feature set for validation is 'xv'\n",
    "\n",
    "# Initialize the SHAP Explainer with your model\n",
    "explainer = shap.TreeExplainer(regr)\n",
    "\n",
    "# Compute SHAP values for the validation set\n",
    "shap_values = explainer.shap_values(xv)\n",
    "\n",
    "# Generate a SHAP summary plot\n",
    "shap.summary_plot(shap_values, xv, plot_type=\"bar\")\n"
   ]
  },
  {
   "cell_type": "markdown",
   "id": "16a6dbae",
   "metadata": {},
   "source": [
    "# Comparison in unseen locations"
   ]
  },
  {
   "cell_type": "code",
   "execution_count": null,
   "id": "dc69ba89",
   "metadata": {},
   "outputs": [],
   "source": []
  }
 ],
 "metadata": {
  "kernelspec": {
   "display_name": "Python 3.8",
   "language": "python",
   "name": "myenv2"
  },
  "language_info": {
   "codemirror_mode": {
    "name": "ipython",
    "version": 3
   },
   "file_extension": ".py",
   "mimetype": "text/x-python",
   "name": "python",
   "nbconvert_exporter": "python",
   "pygments_lexer": "ipython3",
   "version": "3.11.4"
  }
 },
 "nbformat": 4,
 "nbformat_minor": 5
}
