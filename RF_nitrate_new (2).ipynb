{
 "cells": [
  {
   "cell_type": "code",
   "execution_count": 1,
   "id": "29c80843",
   "metadata": {},
   "outputs": [],
   "source": [
    "#final output contains the merged file for sulfate, nitrate and the metadata etc.\n",
    "import numpy as np\n",
    "import pandas as pd\n",
    "from sklearn.ensemble import RandomForestRegressor\n",
    "import matplotlib.pyplot as plt\n",
    "from sklearn.metrics import (mean_absolute_error, mean_squared_error, \n",
    "                             mean_absolute_percentage_error, explained_variance_score, \n",
    "                             max_error, mean_squared_log_error, median_absolute_error, \n",
    "                             r2_score, mean_poisson_deviance, mean_gamma_deviance)\n",
    "from sklearn.metrics import mean_absolute_error, mean_squared_error, r2_score\n",
    "\n"
   ]
  },
  {
   "cell_type": "code",
   "execution_count": 2,
   "id": "151b0b56",
   "metadata": {},
   "outputs": [
    {
     "name": "stderr",
     "output_type": "stream",
     "text": [
      "/var/folders/fs/9hkffwc95yz53x44d27zb2ym0000gn/T/ipykernel_47064/222829863.py:1: DtypeWarning: Columns (6,7) have mixed types. Specify dtype option on import or set low_memory=False.\n",
      "  df = pd.read_csv('/Users/defne/Downloads/alles.csv')\n"
     ]
    }
   ],
   "source": [
    "df = pd.read_csv('/Users/defne/Downloads/alles.csv')\n",
    "# Remove the Unnamed: 0 and Datetime columns\n",
    "df = df.drop(columns=['station_id', 'Date'])"
   ]
  },
  {
   "cell_type": "code",
   "execution_count": 3,
   "id": "f2918ef9",
   "metadata": {},
   "outputs": [
    {
     "data": {
      "text/plain": [
       "Index(['site_latitude', 'site_longitude', 'NO3', 'SO4', 'NO3-', 'SO42-',\n",
       "       'elevation_1k', 'elevation_yNA_bNA', 'road_class_1_700',\n",
       "       'road_class_2_50', 'road_class_1_500', 'road_class_3_50',\n",
       "       'road_class_2_400', 'road_class_1_100', 'road_class_2_700',\n",
       "       'road_class_3_100', 'road_class_2_500', 'road_class_1_400',\n",
       "       'road_class_3_400', 'road_class_1_2000', 'road_class_3_1000',\n",
       "       'road_class_3_10000', 'road_class_1_300', 'road_class_3_500',\n",
       "       'road_class_2_2000', 'road_class_1_1000', 'road_class_3_300',\n",
       "       'road_class_2_200', 'road_class_1_200', 'road_class_2_1000',\n",
       "       'road_class_1_5000', 'road_class_1_50', 'road_class_3_200',\n",
       "       'road_class_3_5000', 'road_class_2_300', 'road_class_2_5000',\n",
       "       'road_class_3_2000', 'road_class_2_100', 'road_class_3_700',\n",
       "       'road_class_2_10000', 'road_class_1_10000', 'imd_b500', 'imd_b1000',\n",
       "       'imd', 'CLC', 'snow_ice_b1000', 'snow_ice_b500', 'urban_fabric_b1000',\n",
       "       'urban_fabric_b500', 'industrial_transport_b1000',\n",
       "       'industrial_transport_b500', 'agriculture_b1000', 'agriculture_b500',\n",
       "       'barren_b1000', 'barren_b500', 'water_b1000', 'water_b500',\n",
       "       'ports_b1000', 'ports_b500', 'transport_b1000', 'transport_b500',\n",
       "       'natural_green_b1000', 'natural_green_b500', 'airports_b1000',\n",
       "       'airports_b500', 'wetlands_b1000', 'wetlands_b500', 'industrial_b1000',\n",
       "       'industrial_b500', 'roads_rails_b1000', 'roads_rails_b500',\n",
       "       'urban_green_b1000', 'urban_green_b500', 'population_density_b1000',\n",
       "       'population_density_b500', 'population_density_b501',\n",
       "       'population_density'],\n",
       "      dtype='object')"
      ]
     },
     "execution_count": 3,
     "metadata": {},
     "output_type": "execute_result"
    }
   ],
   "source": [
    "df.columns"
   ]
  },
  {
   "cell_type": "code",
   "execution_count": 4,
   "id": "ccc5912d",
   "metadata": {},
   "outputs": [
    {
     "data": {
      "text/plain": [
       "(482614, 77)"
      ]
     },
     "execution_count": 4,
     "metadata": {},
     "output_type": "execute_result"
    }
   ],
   "source": [
    "df.shape"
   ]
  },
  {
   "cell_type": "code",
   "execution_count": 5,
   "id": "8c1a4f3f",
   "metadata": {},
   "outputs": [],
   "source": [
    "#Getting rid of nan values and non numeric values\n",
    "for col in df.columns:\n",
    "     df[col] = pd.to_numeric(df[col], errors='coerce')\n"
   ]
  },
  {
   "cell_type": "code",
   "execution_count": 6,
   "id": "fb384b63",
   "metadata": {},
   "outputs": [],
   "source": [
    "for colname in df.columns:\n",
    "    df = df[pd.to_numeric(df[colname], errors='coerce').notnull()]\n",
    "    "
   ]
  },
  {
   "cell_type": "code",
   "execution_count": 7,
   "id": "26b86ce5",
   "metadata": {},
   "outputs": [
    {
     "data": {
      "text/plain": [
       "(173503, 77)"
      ]
     },
     "execution_count": 7,
     "metadata": {},
     "output_type": "execute_result"
    }
   ],
   "source": [
    "df.shape"
   ]
  },
  {
   "cell_type": "markdown",
   "id": "a45b941f",
   "metadata": {},
   "source": [
    "# Random Forest - predicting the concentration"
   ]
  },
  {
   "cell_type": "code",
   "execution_count": 8,
   "id": "05bcdaab",
   "metadata": {},
   "outputs": [],
   "source": [
    "\n",
    "# Define the variable to predict (Nitrate) and features\n",
    "\n",
    "y = df['NO3-'] \n",
    "X = df.drop(columns=['NO3-'])  # Drop the target column from the features\n",
    "\n",
    "# Split the data into training and validation sets\n",
    "xv = X.sample(frac=0.2)        # X for validation (20%)\n",
    "xx = X.drop(xv.index)          # X for training (80%)\n",
    "yv = y.loc[xv.index]           # Y for validation (20%)\n",
    "yx = y.drop(xv.index) # Y for training (80%)\n",
    "\n",
    "#print(xx)\n",
    "# Initialize and train the RandomForestRegressor\n",
    "regr = RandomForestRegressor(max_depth=100, random_state=125) # Need to tune these parameters\n",
    "regr.fit(xx, yx)  # Train with training data (80%)\n",
    "\n",
    "# Make predictions\n",
    "y_tra = regr.predict(xx)  # Predictions on training set\n",
    "y_val = regr.predict(xv)  # Predictions on validation set\n",
    "\n",
    "\n",
    "yv_const = yv\n"
   ]
  },
  {
   "cell_type": "code",
   "execution_count": 22,
   "id": "c61fbf43",
   "metadata": {},
   "outputs": [],
   "source": [
    "#Code for MAPE #5th pecentile 0.3 for nitrate 0.1 for sulfate\n",
    "def mean_absolute_percentage_error(y_true, y_pred): \n",
    "    y_true, y_pred = np.array(y_true), np.array(y_pred)\n",
    "    epsilon = 0.3 # A small constant to avoid division by zero\n",
    "    return np.mean(np.abs((y_true - y_pred) / (y_true + epsilon))) * 100\n"
   ]
  },
  {
   "cell_type": "code",
   "execution_count": 10,
   "id": "a74fbdbd",
   "metadata": {},
   "outputs": [
    {
     "name": "stdout",
     "output_type": "stream",
     "text": [
      "R² score: 0.8090159476061045\n",
      "Mean Absolute Error (MAE): 0.3947794007024437\n",
      "Mean Squared Error (MSE): 0.9178610654767112\n",
      "Root Mean Squared Error (RMSE): 0.9580506591390203\n",
      "Mean Absolute Percentage Error (MAPE): 22.826456158330842 %\n"
     ]
    },
    {
     "data": {
      "image/png": "[encoded data removed]",
      "text/plain": [
       "<Figure size 432x288 with 1 Axes>"
      ]
     },
     "metadata": {
      "needs_background": "light"
     },
     "output_type": "display_data"
    },
    {
     "name": "stdout",
     "output_type": "stream",
     "text": [
      "(34701,)\n",
      "(34701,)\n"
     ]
    }
   ],
   "source": [
    "print('R² score:', regr.score(xv, yv))\n",
    "print('Mean Absolute Error (MAE):', mean_absolute_error(yv, y_val))\n",
    "print('Mean Squared Error (MSE):', mean_squared_error(yv, y_val))\n",
    "print('Root Mean Squared Error (RMSE):', mean_squared_error(yv, y_val, squared=False))\n",
    "print('Mean Absolute Percentage Error (MAPE):', mean_absolute_percentage_error(yv, y_val), '%')\n",
    "\n",
    "# Convert yv to float\n",
    "yv = pd.to_numeric(yv, errors='coerce')\n",
    "\n",
    "# Plot results\n",
    "plt.figure()\n",
    "plt.scatter(yv, y_val)\n",
    "plt.xlabel('Actual Nitrate')\n",
    "plt.ylabel('Predicted Nitrate')\n",
    "\n",
    "# Set x-ticks\n",
    "xtick_range = np.arange(yv.min(), yv.max(), 10)\n",
    "plt.xticks(xtick_range)\n",
    "\n",
    "plt.show()\n",
    "\n",
    "print(yv.shape)\n",
    "print(y_val.shape)"
   ]
  },
  {
   "cell_type": "markdown",
   "id": "964f1fc8",
   "metadata": {},
   "source": [
    "# Random Forest - Prediction of the percentage error"
   ]
  },
  {
   "cell_type": "code",
   "execution_count": 11,
   "id": "22830d69",
   "metadata": {},
   "outputs": [
    {
     "name": "stderr",
     "output_type": "stream",
     "text": [
      "/var/folders/fs/9hkffwc95yz53x44d27zb2ym0000gn/T/ipykernel_30309/222829863.py:1: DtypeWarning: Columns (6,7) have mixed types. Specify dtype option on import or set low_memory=False.\n",
      "  df = pd.read_csv('/Users/defne/Downloads/alles.csv')\n"
     ]
    }
   ],
   "source": [
    "df = pd.read_csv('/Users/defne/Downloads/alles.csv')\n",
    "# Remove the Unnamed: 0 and Datetime columns\n",
    "df = df.drop(columns=['station_id', 'Date'])"
   ]
  },
  {
   "cell_type": "code",
   "execution_count": 12,
   "id": "b4c05f18",
   "metadata": {},
   "outputs": [],
   "source": [
    "#Getting rid of nan values and non numeric values\n",
    "for col in df.columns:\n",
    "     df[col] = pd.to_numeric(df[col], errors='coerce')\n",
    "for colname in df.columns:\n",
    "    df = df[pd.to_numeric(df[colname], errors='coerce').notnull()]\n",
    "    "
   ]
  },
  {
   "cell_type": "code",
   "execution_count": 13,
   "id": "b10ca97c",
   "metadata": {},
   "outputs": [
    {
     "data": {
      "text/plain": [
       "(173503, 77)"
      ]
     },
     "execution_count": 13,
     "metadata": {},
     "output_type": "execute_result"
    }
   ],
   "source": [
    "df.shape"
   ]
  },
  {
   "cell_type": "code",
   "execution_count": 14,
   "id": "ff612b7f",
   "metadata": {},
   "outputs": [],
   "source": [
    "# Calculate P0.05 for the entire dataset\n",
    "P0_05 = np.percentile(df['NO3-'], 5)\n",
    "\n",
    "# Define a function to calculate the percentage error\n",
    "def calculate_percentage_error(measurement):\n",
    "    return (measurement - P0_05) / (measurement + P0_05)"
   ]
  },
  {
   "cell_type": "code",
   "execution_count": 15,
   "id": "91486f35",
   "metadata": {},
   "outputs": [],
   "source": [
    "# Create a new target variable based on the percentage error\n",
    "df['Percentage_Error'] = df['NO3-'].apply(calculate_percentage_error)\n",
    "\n",
    "# Define the variable to predict (Percentage Error) and features\n",
    "y = df['Percentage_Error']\n",
    "X = df.drop(columns=['NO3-', 'Percentage_Error'])  # Drop the original target and new target from the features\n",
    "\n",
    "# Manually split the data into training and validation sets\n",
    "xv = X.sample(frac=0.2, random_state=125)        # X for validation (20%)\n",
    "xx = X.drop(xv.index)          # X for training (80%)\n",
    "yv = y.loc[xv.index]           # Y for validation (20%)\n",
    "yx = y.drop(yv.index)          # Y for training (80%)\n",
    "\n",
    "# Initialize and train the RandomForestRegressor\n",
    "regr = RandomForestRegressor(max_depth=100, random_state=125)\n",
    "regr.fit(xx, yx)  # Train with training data (80%)\n",
    "\n",
    "# Make predictions\n",
    "y_train_pred = regr.predict(xx)  # Predictions on training set\n",
    "y_val_pred = regr.predict(xv)  # Predictions on validation set\n",
    "\n",
    "# Now y_train_pred and y_val_pred are predictions of the percentage error\n"
   ]
  },
  {
   "cell_type": "markdown",
   "id": "7225081a",
   "metadata": {},
   "source": [
    "y_pred = ((y_observed - y_camx )/ (y_observed+e) ) -> predict this, get the value of y_observed (rearrange this equation)"
   ]
  },
  {
   "cell_type": "markdown",
   "id": "464d90bf",
   "metadata": {},
   "source": [
    "Here is the correction using the prediction of the error"
   ]
  },
  {
   "cell_type": "code",
   "execution_count": 24,
   "id": "721b24ef",
   "metadata": {},
   "outputs": [],
   "source": [
    "# Apply the correction\n",
    "corrected_concentrations = yv_const + (y_val_pred * yv_const)"
   ]
  },
  {
   "cell_type": "raw",
   "id": "5074f89d",
   "metadata": {},
   "source": [
    "Evaluation after correction QUESTION WERE WE SUPPOSED TO CORRECT THE PREDICTIONS THAT WE MADE IN THE PREVIOUS CONCENTRATION PREDICTION?"
   ]
  },
  {
   "cell_type": "code",
   "execution_count": 25,
   "id": "c5383a51",
   "metadata": {},
   "outputs": [
    {
     "name": "stdout",
     "output_type": "stream",
     "text": [
      "R² score: 0.28820620010511244\n",
      "Mean Absolute Error (MAE): 0.7796129397294344\n",
      "Mean Squared Error (MSE): 2.6836628293222864\n",
      "Root Mean Squared Error (RMSE): 1.63818888694872\n",
      "Mean Absolute Percentage Error (MAPE): 70.76449421843184 %\n"
     ]
    },
    {
     "data": {
      "image/png": "[encoded data removed]",
      "text/plain": [
       "<Figure size 432x288 with 1 Axes>"
      ]
     },
     "metadata": {
      "needs_background": "light"
     },
     "output_type": "display_data"
    }
   ],
   "source": [
    "# Calculate the evaluation metrics\n",
    "r2 = r2_score(yv_const, corrected_concentrations)\n",
    "mae = mean_absolute_error(yv_const, corrected_concentrations)\n",
    "mse = mean_squared_error(yv_const, corrected_concentrations)\n",
    "rmse = mean_squared_error(yv_const, corrected_concentrations, squared=False)\n",
    "mape = np.mean(np.abs((yv_const - corrected_concentrations) / yv_const)) * 100\n",
    "\n",
    "# Print the metrics\n",
    "print('R² score:', r2)\n",
    "print('Mean Absolute Error (MAE):', mae)\n",
    "print('Mean Squared Error (MSE):', mse)\n",
    "print('Root Mean Squared Error (RMSE):', rmse)\n",
    "print('Mean Absolute Percentage Error (MAPE):', mape, '%')\n",
    "\n",
    "# Plotting the results\n",
    "plt.figure()\n",
    "plt.scatter(yv, corrected_concentrations)\n",
    "plt.xlabel('Actual Nitrate Concentrations')\n",
    "plt.ylabel('Corrected Nitrate Concentrations')\n",
    "plt.title('Actual vs Corrected Nitrate Concentrations')\n",
    "\n",
    "# Adjust x-ticks if necessary\n",
    "xtick_range = np.linspace(yv.min(), yv.max(), num=10)  # Adjust number of ticks as needed\n",
    "plt.xticks(xtick_range)\n",
    "\n",
    "plt.show()\n"
   ]
  },
  {
   "cell_type": "code",
   "execution_count": null,
   "id": "08ffc597",
   "metadata": {},
   "outputs": [],
   "source": []
  },
  {
   "cell_type": "code",
   "execution_count": null,
   "id": "88ea7683",
   "metadata": {},
   "outputs": [],
   "source": []
  },
  {
   "cell_type": "markdown",
   "id": "38ec6954",
   "metadata": {},
   "source": [
    "# Random Forest - Validation set from random stations"
   ]
  },
  {
   "cell_type": "code",
   "execution_count": 110,
   "id": "989bfd10",
   "metadata": {},
   "outputs": [
    {
     "name": "stderr",
     "output_type": "stream",
     "text": [
      "/var/folders/fs/9hkffwc95yz53x44d27zb2ym0000gn/T/ipykernel_47064/3307341843.py:1: DtypeWarning: Columns (6,7) have mixed types. Specify dtype option on import or set low_memory=False.\n",
      "  df = pd.read_csv('/Users/defne/Downloads/alles.csv')\n"
     ]
    }
   ],
   "source": [
    "df = pd.read_csv('/Users/defne/Downloads/alles.csv')\n",
    "# Remove the Unnamed: 0 and Datetime columns\n",
    "df_const = df\n",
    "df = df.drop(columns=['Date'])"
   ]
  },
  {
   "cell_type": "code",
   "execution_count": 111,
   "id": "79562456",
   "metadata": {},
   "outputs": [
    {
     "data": {
      "text/plain": [
       "Index(['station_id', 'site_latitude', 'site_longitude', 'NO3', 'SO4', 'NO3-',\n",
       "       'SO42-', 'elevation_1k', 'elevation_yNA_bNA', 'road_class_1_700',\n",
       "       'road_class_2_50', 'road_class_1_500', 'road_class_3_50',\n",
       "       'road_class_2_400', 'road_class_1_100', 'road_class_2_700',\n",
       "       'road_class_3_100', 'road_class_2_500', 'road_class_1_400',\n",
       "       'road_class_3_400', 'road_class_1_2000', 'road_class_3_1000',\n",
       "       'road_class_3_10000', 'road_class_1_300', 'road_class_3_500',\n",
       "       'road_class_2_2000', 'road_class_1_1000', 'road_class_3_300',\n",
       "       'road_class_2_200', 'road_class_1_200', 'road_class_2_1000',\n",
       "       'road_class_1_5000', 'road_class_1_50', 'road_class_3_200',\n",
       "       'road_class_3_5000', 'road_class_2_300', 'road_class_2_5000',\n",
       "       'road_class_3_2000', 'road_class_2_100', 'road_class_3_700',\n",
       "       'road_class_2_10000', 'road_class_1_10000', 'imd_b500', 'imd_b1000',\n",
       "       'imd', 'CLC', 'snow_ice_b1000', 'snow_ice_b500', 'urban_fabric_b1000',\n",
       "       'urban_fabric_b500', 'industrial_transport_b1000',\n",
       "       'industrial_transport_b500', 'agriculture_b1000', 'agriculture_b500',\n",
       "       'barren_b1000', 'barren_b500', 'water_b1000', 'water_b500',\n",
       "       'ports_b1000', 'ports_b500', 'transport_b1000', 'transport_b500',\n",
       "       'natural_green_b1000', 'natural_green_b500', 'airports_b1000',\n",
       "       'airports_b500', 'wetlands_b1000', 'wetlands_b500', 'industrial_b1000',\n",
       "       'industrial_b500', 'roads_rails_b1000', 'roads_rails_b500',\n",
       "       'urban_green_b1000', 'urban_green_b500', 'population_density_b1000',\n",
       "       'population_density_b500', 'population_density_b501',\n",
       "       'population_density'],\n",
       "      dtype='object')"
      ]
     },
     "execution_count": 111,
     "metadata": {},
     "output_type": "execute_result"
    }
   ],
   "source": [
    "df.columns\n",
    "\n",
    "#O_3 from Camx can be a good feature from Abshishek or Petros\n",
    "#Meterology, temperature, RH, wind-speed, wind direction, pblh"
   ]
  },
  {
   "cell_type": "code",
   "execution_count": 112,
   "id": "a6b61213",
   "metadata": {},
   "outputs": [
    {
     "data": {
      "text/plain": [
       "Index(['station_id', 'Date', 'site_latitude', 'site_longitude', 'NO3', 'SO4',\n",
       "       'NO3-', 'SO42-', 'elevation_1k', 'elevation_yNA_bNA',\n",
       "       'road_class_1_700', 'road_class_2_50', 'road_class_1_500',\n",
       "       'road_class_3_50', 'road_class_2_400', 'road_class_1_100',\n",
       "       'road_class_2_700', 'road_class_3_100', 'road_class_2_500',\n",
       "       'road_class_1_400', 'road_class_3_400', 'road_class_1_2000',\n",
       "       'road_class_3_1000', 'road_class_3_10000', 'road_class_1_300',\n",
       "       'road_class_3_500', 'road_class_2_2000', 'road_class_1_1000',\n",
       "       'road_class_3_300', 'road_class_2_200', 'road_class_1_200',\n",
       "       'road_class_2_1000', 'road_class_1_5000', 'road_class_1_50',\n",
       "       'road_class_3_200', 'road_class_3_5000', 'road_class_2_300',\n",
       "       'road_class_2_5000', 'road_class_3_2000', 'road_class_2_100',\n",
       "       'road_class_3_700', 'road_class_2_10000', 'road_class_1_10000',\n",
       "       'imd_b500', 'imd_b1000', 'imd', 'CLC', 'snow_ice_b1000',\n",
       "       'snow_ice_b500', 'urban_fabric_b1000', 'urban_fabric_b500',\n",
       "       'industrial_transport_b1000', 'industrial_transport_b500',\n",
       "       'agriculture_b1000', 'agriculture_b500', 'barren_b1000', 'barren_b500',\n",
       "       'water_b1000', 'water_b500', 'ports_b1000', 'ports_b500',\n",
       "       'transport_b1000', 'transport_b500', 'natural_green_b1000',\n",
       "       'natural_green_b500', 'airports_b1000', 'airports_b500',\n",
       "       'wetlands_b1000', 'wetlands_b500', 'industrial_b1000',\n",
       "       'industrial_b500', 'roads_rails_b1000', 'roads_rails_b500',\n",
       "       'urban_green_b1000', 'urban_green_b500', 'population_density_b1000',\n",
       "       'population_density_b500', 'population_density_b501',\n",
       "       'population_density'],\n",
       "      dtype='object')"
      ]
     },
     "execution_count": 112,
     "metadata": {},
     "output_type": "execute_result"
    }
   ],
   "source": [
    "df_const.columns"
   ]
  },
  {
   "cell_type": "code",
   "execution_count": 114,
   "id": "c93198fc",
   "metadata": {},
   "outputs": [],
   "source": [
    "\n",
    "# Assuming 'station_id' is the column to be excluded from NaN removal\n",
    "station_id_column = df['station_id']\n",
    "\n",
    "# Drop the 'Date' and 'station_id' columns from df\n",
    "df = df.drop(columns=['station_id'])\n",
    "\n",
    "# Store original indices\n",
    "original_indices = df.index.copy()\n",
    "\n",
    "# Convert columns to numeric, dropping rows where conversion results in NaN\n",
    "for colname in df.columns:\n",
    "    df[colname] = pd.to_numeric(df[colname], errors='coerce')\n",
    "\n",
    "# Drop rows with NaN values in any column\n",
    "df = df.dropna()\n",
    "\n",
    "# Filter the 'station_id' column using the updated indices\n",
    "removed_indices = original_indices.difference(df.index)\n",
    "station_id_column = station_id_column.drop(index=removed_indices)\n",
    "\n",
    "# Reattach the filtered 'station_id' column to df\n",
    "df['station_id'] = station_id_column"
   ]
  },
  {
   "cell_type": "code",
   "execution_count": 115,
   "id": "8ea85fde",
   "metadata": {},
   "outputs": [
    {
     "data": {
      "text/plain": [
       "(173503, 78)"
      ]
     },
     "execution_count": 115,
     "metadata": {},
     "output_type": "execute_result"
    }
   ],
   "source": [
    "df.shape"
   ]
  },
  {
   "cell_type": "code",
   "execution_count": null,
   "id": "91cae030",
   "metadata": {},
   "outputs": [],
   "source": []
  },
  {
   "cell_type": "code",
   "execution_count": 117,
   "id": "e7772e59",
   "metadata": {},
   "outputs": [],
   "source": [
    "validation_site_ids = ['ID203','ID053','ID116','ID227']"
   ]
  },
  {
   "cell_type": "code",
   "execution_count": 118,
   "id": "648af7a3",
   "metadata": {},
   "outputs": [
    {
     "data": {
      "text/plain": [
       "(45913, 78)"
      ]
     },
     "execution_count": 118,
     "metadata": {},
     "output_type": "execute_result"
    }
   ],
   "source": [
    "#How many datapoints for validation\n",
    "df[df['station_id'].isin(validation_site_ids)].shape #almost 10 percent of the data"
   ]
  },
  {
   "cell_type": "code",
   "execution_count": null,
   "id": "2799575b",
   "metadata": {},
   "outputs": [],
   "source": []
  },
  {
   "cell_type": "code",
   "execution_count": 119,
   "id": "dc2f0425",
   "metadata": {},
   "outputs": [
    {
     "data": {
      "text/plain": [
       "Index(['site_latitude', 'site_longitude', 'NO3', 'SO4', 'NO3-', 'SO42-',\n",
       "       'elevation_1k', 'elevation_yNA_bNA', 'road_class_1_700',\n",
       "       'road_class_2_50', 'road_class_1_500', 'road_class_3_50',\n",
       "       'road_class_2_400', 'road_class_1_100', 'road_class_2_700',\n",
       "       'road_class_3_100', 'road_class_2_500', 'road_class_1_400',\n",
       "       'road_class_3_400', 'road_class_1_2000', 'road_class_3_1000',\n",
       "       'road_class_3_10000', 'road_class_1_300', 'road_class_3_500',\n",
       "       'road_class_2_2000', 'road_class_1_1000', 'road_class_3_300',\n",
       "       'road_class_2_200', 'road_class_1_200', 'road_class_2_1000',\n",
       "       'road_class_1_5000', 'road_class_1_50', 'road_class_3_200',\n",
       "       'road_class_3_5000', 'road_class_2_300', 'road_class_2_5000',\n",
       "       'road_class_3_2000', 'road_class_2_100', 'road_class_3_700',\n",
       "       'road_class_2_10000', 'road_class_1_10000', 'imd_b500', 'imd_b1000',\n",
       "       'imd', 'CLC', 'snow_ice_b1000', 'snow_ice_b500', 'urban_fabric_b1000',\n",
       "       'urban_fabric_b500', 'industrial_transport_b1000',\n",
       "       'industrial_transport_b500', 'agriculture_b1000', 'agriculture_b500',\n",
       "       'barren_b1000', 'barren_b500', 'water_b1000', 'water_b500',\n",
       "       'ports_b1000', 'ports_b500', 'transport_b1000', 'transport_b500',\n",
       "       'natural_green_b1000', 'natural_green_b500', 'airports_b1000',\n",
       "       'airports_b500', 'wetlands_b1000', 'wetlands_b500', 'industrial_b1000',\n",
       "       'industrial_b500', 'roads_rails_b1000', 'roads_rails_b500',\n",
       "       'urban_green_b1000', 'urban_green_b500', 'population_density_b1000',\n",
       "       'population_density_b500', 'population_density_b501',\n",
       "       'population_density', 'station_id'],\n",
       "      dtype='object')"
      ]
     },
     "execution_count": 119,
     "metadata": {},
     "output_type": "execute_result"
    }
   ],
   "source": [
    "df.columns"
   ]
  },
  {
   "cell_type": "code",
   "execution_count": 120,
   "id": "f15545be",
   "metadata": {},
   "outputs": [
    {
     "name": "stdout",
     "output_type": "stream",
     "text": [
      "site_latitude               float64\n",
      "site_longitude              float64\n",
      "NO3                         float64\n",
      "SO4                         float64\n",
      "NO3-                        float64\n",
      "                             ...   \n",
      "population_density_b1000    float64\n",
      "population_density_b500     float64\n",
      "population_density_b501     float64\n",
      "population_density          float64\n",
      "station_id                   object\n",
      "Length: 78, dtype: object\n"
     ]
    }
   ],
   "source": [
    "# Identify non-numeric columns\n",
    "print(df.dtypes)\n",
    "\n"
   ]
  },
  {
   "cell_type": "code",
   "execution_count": null,
   "id": "758f5510",
   "metadata": {},
   "outputs": [],
   "source": []
  },
  {
   "cell_type": "code",
   "execution_count": 121,
   "id": "8727f078",
   "metadata": {},
   "outputs": [
    {
     "name": "stdout",
     "output_type": "stream",
     "text": [
      "(127590, 76)\n",
      "(45913, 76)\n"
     ]
    }
   ],
   "source": [
    "# Assuming df_const has a 'site_id' column and can be merged with df\n",
    "# Merge df with df_const\n",
    "\n",
    "\n",
    "# Define the variable to predict (Nitrate) and features\n",
    "y = df['NO3-']\n",
    "X = df.drop(columns=['NO3-'])  # Drop the target column from the features\n",
    "\n",
    "# Split the data into training and validation sets based on site_id\n",
    "xv = X[X['station_id'].isin(validation_site_ids)]  # X for validation\n",
    "xx = X[~X['station_id'].isin(validation_site_ids)] # X for training\n",
    "yv = y.loc[xv.index]  # Y for validation\n",
    "yx = y.loc[xx.index]  # Y for training\n",
    "\n",
    "\n",
    "# Drop the site_id column for model training and prediction\n",
    "xx = xx.drop(columns=['station_id'])\n",
    "xv = xv.drop(columns=['station_id'])\n",
    "\n",
    "\n",
    "xx = xx.dropna()\n",
    "xv = xv.dropna()\n",
    "yx = yx.dropna()\n",
    "\n",
    "print(xx.shape)\n",
    "print(xv.shape)\n",
    "xx.head(10)\n",
    "# Initialize and train the RandomForestRegressor\n",
    "regr = RandomForestRegressor(max_depth=100, random_state=125)\n",
    "regr.fit(xx, yx)  # Train with training data\n",
    "\n",
    "# Make predictions\n",
    "y_tra = regr.predict(xx)  # Predictions on training set\n",
    "y_val = regr.predict(xv)  # Predictions on validation set"
   ]
  },
  {
   "cell_type": "code",
   "execution_count": 122,
   "id": "d3b5f94f",
   "metadata": {},
   "outputs": [
    {
     "name": "stdout",
     "output_type": "stream",
     "text": [
      "R² score: -6.423982481396437\n",
      "Mean Absolute Error (MAE): 0.8624575506066561\n",
      "Mean Squared Error (MSE): 2.825151953357447\n",
      "Root Mean Squared Error (RMSE): 1.6808188341869112\n",
      "Mean Absolute Percentage Error (MAPE): 99.83033902669057 %\n"
     ]
    },
    {
     "data": {
      "image/png": "[encoded data removed]",
      "text/plain": [
       "<Figure size 432x288 with 1 Axes>"
      ]
     },
     "metadata": {
      "needs_background": "light"
     },
     "output_type": "display_data"
    },
    {
     "name": "stdout",
     "output_type": "stream",
     "text": [
      "(45913,)\n",
      "(45913,)\n"
     ]
    }
   ],
   "source": [
    "print('R² score:', regr.score(xv, yv))\n",
    "print('Mean Absolute Error (MAE):', mean_absolute_error(yv, y_val))\n",
    "print('Mean Squared Error (MSE):', mean_squared_error(yv, y_val))\n",
    "print('Root Mean Squared Error (RMSE):', mean_squared_error(yv, y_val, squared=False))\n",
    "print('Mean Absolute Percentage Error (MAPE):', mean_absolute_percentage_error(yv, y_val), '%')\n",
    "\n",
    "# Convert yv to float\n",
    "yv = pd.to_numeric(yv, errors='coerce')\n",
    "\n",
    "# Plot results\n",
    "plt.figure()\n",
    "plt.scatter(yv, y_val)\n",
    "plt.xlabel('Actual Nitrate')\n",
    "plt.ylabel('Predicted Nitrate')\n",
    "\n",
    "# Set x-ticks\n",
    "xtick_range = np.arange(yv.min(), yv.max(), 10)\n",
    "plt.xticks(xtick_range)\n",
    "\n",
    "plt.show()\n",
    "\n",
    "print(yv.shape)\n",
    "print(y_val.shape)"
   ]
  },
  {
   "cell_type": "code",
   "execution_count": null,
   "id": "17bdac15",
   "metadata": {},
   "outputs": [],
   "source": []
  },
  {
   "cell_type": "markdown",
   "id": "ff8a66fc",
   "metadata": {},
   "source": [
    "# SHAP"
   ]
  },
  {
   "cell_type": "code",
   "execution_count": 17,
   "id": "d4d25c61",
   "metadata": {},
   "outputs": [
    {
     "name": "stdout",
     "output_type": "stream",
     "text": [
      "Requirement already satisfied: shap in ./miniforge3/lib/python3.10/site-packages (0.44.0)\n",
      "Requirement already satisfied: numpy in ./miniforge3/lib/python3.10/site-packages (from shap) (1.26.1)\n",
      "Requirement already satisfied: scipy in ./miniforge3/lib/python3.10/site-packages (from shap) (1.11.4)\n",
      "Requirement already satisfied: scikit-learn in ./miniforge3/lib/python3.10/site-packages (from shap) (1.3.2)\n",
      "Requirement already satisfied: pandas in ./miniforge3/lib/python3.10/site-packages (from shap) (2.1.1)\n",
      "Requirement already satisfied: tqdm>=4.27.0 in ./miniforge3/lib/python3.10/site-packages (from shap) (4.66.1)\n",
      "Requirement already satisfied: packaging>20.9 in ./miniforge3/lib/python3.10/site-packages (from shap) (23.1)\n",
      "Requirement already satisfied: slicer==0.0.7 in ./miniforge3/lib/python3.10/site-packages (from shap) (0.0.7)\n",
      "Requirement already satisfied: numba in ./miniforge3/lib/python3.10/site-packages (from shap) (0.58.1)\n",
      "Requirement already satisfied: cloudpickle in ./miniforge3/lib/python3.10/site-packages (from shap) (3.0.0)\n",
      "Requirement already satisfied: llvmlite<0.42,>=0.41.0dev0 in ./miniforge3/lib/python3.10/site-packages (from numba->shap) (0.41.1)\n",
      "Requirement already satisfied: python-dateutil>=2.8.2 in ./miniforge3/lib/python3.10/site-packages (from pandas->shap) (2.8.2)\n",
      "Requirement already satisfied: pytz>=2020.1 in ./miniforge3/lib/python3.10/site-packages (from pandas->shap) (2023.3.post1)\n",
      "Requirement already satisfied: tzdata>=2022.1 in ./miniforge3/lib/python3.10/site-packages (from pandas->shap) (2023.3)\n",
      "Requirement already satisfied: joblib>=1.1.1 in ./miniforge3/lib/python3.10/site-packages (from scikit-learn->shap) (1.3.2)\n",
      "Requirement already satisfied: threadpoolctl>=2.0.0 in ./miniforge3/lib/python3.10/site-packages (from scikit-learn->shap) (3.2.0)\n",
      "Requirement already satisfied: six>=1.5 in ./miniforge3/lib/python3.10/site-packages (from python-dateutil>=2.8.2->pandas->shap) (1.16.0)\n"
     ]
    }
   ],
   "source": [
    "!pip install shap"
   ]
  },
  {
   "cell_type": "code",
   "execution_count": null,
   "id": "838e444e",
   "metadata": {},
   "outputs": [],
   "source": [
    "import sys\n",
    "print(sys.executable)\n"
   ]
  },
  {
   "cell_type": "code",
   "execution_count": null,
   "id": "583ccfa5",
   "metadata": {},
   "outputs": [],
   "source": [
    "!{sys.executable} -m pip install shap\n"
   ]
  },
  {
   "cell_type": "code",
   "execution_count": 18,
   "id": "5df3bf7c",
   "metadata": {},
   "outputs": [
    {
     "name": "stderr",
     "output_type": "stream",
     "text": [
      "/var/folders/fs/9hkffwc95yz53x44d27zb2ym0000gn/T/ipykernel_44837/1848977408.py:1: DtypeWarning: Columns (6,7) have mixed types. Specify dtype option on import or set low_memory=False.\n",
      "  df = pd.read_csv('/Users/defne/Downloads/alles.csv')\n"
     ]
    }
   ],
   "source": [
    "df = pd.read_csv('/Users/defne/Downloads/alles.csv')\n",
    "# Remove the Unnamed: 0 and Datetime columns\n",
    "df_const = df\n",
    "df = df.drop(columns=['station_id', 'Date'])"
   ]
  },
  {
   "cell_type": "code",
   "execution_count": 19,
   "id": "9a1d4259",
   "metadata": {},
   "outputs": [],
   "source": [
    "for colname in df.columns:\n",
    "    df = df[pd.to_numeric(df[colname], errors='coerce').notnull()]\n"
   ]
  },
  {
   "cell_type": "code",
   "execution_count": 20,
   "id": "ccf615e8",
   "metadata": {},
   "outputs": [],
   "source": [
    "#Getting rid of nan values and non numeric values\n",
    "for col in df.columns:\n",
    "     df[col] = pd.to_numeric(df[col], errors='coerce')\n"
   ]
  },
  {
   "cell_type": "code",
   "execution_count": 23,
   "id": "3a1e458e",
   "metadata": {},
   "outputs": [],
   "source": [
    "stations_for_validation = ['ID203','ID053','ID116']#almost 10 percent of the data"
   ]
  },
  {
   "cell_type": "code",
   "execution_count": 24,
   "id": "6c6e4cab",
   "metadata": {},
   "outputs": [
    {
     "data": {
      "text/plain": [
       "(1213, 79)"
      ]
     },
     "execution_count": 24,
     "metadata": {},
     "output_type": "execute_result"
    }
   ],
   "source": [
    "#How many datapoints for validation\n",
    "df_const[df_const['station_id'].isin(stations_for_validation)].shape"
   ]
  },
  {
   "cell_type": "code",
   "execution_count": 25,
   "id": "24d05968",
   "metadata": {},
   "outputs": [],
   "source": [
    "\n",
    "# Define the variable to predict (Nitrate) and features\n",
    "\n",
    "y = df['NO3-'] \n",
    "X = df.drop(columns=['NO3-'])  # Drop the target column from the features\n",
    "\n",
    "# Split the data into training and validation sets\n",
    "xv = X.sample(frac=0.2)        # X for validation (20%)\n",
    "xx = X.drop(xv.index)          # X for training (80%)\n",
    "yv = y.loc[xv.index]           # Y for validation (20%)\n",
    "yx = y.drop(xv.index) # Y for training (80%)\n",
    "\n",
    "#print(xx)\n",
    "# Initialize and train the RandomForestRegressor\n",
    "regr = RandomForestRegressor(max_depth=100, random_state=125) # Need to tune these parameters\n",
    "regr.fit(xx, yx)  # Train with training data (80%)\n",
    "\n",
    "# Make predictions\n",
    "y_tra = regr.predict(xx)  # Predictions on training set\n",
    "y_val = regr.predict(xv)  # Predictions on validation set\n"
   ]
  },
  {
   "cell_type": "code",
   "execution_count": null,
   "id": "78012a79",
   "metadata": {},
   "outputs": [],
   "source": [
    "import shap\n",
    "from sklearn.ensemble import RandomForestRegressor\n",
    "#smaller subset of data, psi computer\n",
    "#keep doing it in station splitting\n",
    "# Assuming your model is already trained and is named 'regr'\n",
    "# And your feature set for validation is 'xv'\n",
    "\n",
    "# Initialize the SHAP Explainer with your model\n",
    "explainer = shap.TreeExplainer(regr)\n",
    "\n",
    "# Compute SHAP values for the validation set\n",
    "shap_values = explainer.shap_values(xv)\n",
    "\n",
    "# Generate a SHAP summary plot\n",
    "shap.summary_plot(shap_values, xv, plot_type=\"bar\")\n",
    "\n",
    "\n",
    "#Focus on predicting the percentage error and predictions at unseen locations for validation \n",
    "#After these results send the plots, also metrics\n",
    "#\n",
    "\n",
    "\n"
   ]
  },
  {
   "cell_type": "markdown",
   "id": "16a6dbae",
   "metadata": {},
   "source": [
    "# Comparison in unseen locations"
   ]
  },
  {
   "cell_type": "code",
   "execution_count": null,
   "id": "dc69ba89",
   "metadata": {},
   "outputs": [],
   "source": []
  }
 ],
 "metadata": {
  "kernelspec": {
   "display_name": "Python 3.8",
   "language": "python",
   "name": "myenv2"
  },
  "language_info": {
   "codemirror_mode": {
    "name": "ipython",
    "version": 3
   },
   "file_extension": ".py",
   "mimetype": "text/x-python",
   "name": "python",
   "nbconvert_exporter": "python",
   "pygments_lexer": "ipython3",
   "version": "3.11.4"
  }
 },
 "nbformat": 4,
 "nbformat_minor": 5
}
